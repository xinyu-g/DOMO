{
 "cells": [
  {
   "cell_type": "code",
   "execution_count": 2,
   "metadata": {},
   "outputs": [],
   "source": [
    "import pandas as pd\n",
    "import numpy as np"
   ]
  },
  {
   "cell_type": "code",
   "execution_count": 3,
   "metadata": {},
   "outputs": [],
   "source": [
    "data = pd.read_csv('./Dataset Activity.csv', low_memory=False)"
   ]
  },
  {
   "attachments": {},
   "cell_type": "markdown",
   "metadata": {},
   "source": [
    "Given that I have no prior knowledge about the data, except for the column names and types, I intend to execute some basic commands on the data to gain more insights. I have a few questions in mind that will guide my exploration:\n",
    "\n",
    "1. What is the meaning of each column?\n",
    "2. Which columns correspond to entity types?\n",
    "3. For each entry, what activity does it signify? Is it the initiator, recipient, or something else?"
   ]
  },
  {
   "cell_type": "code",
   "execution_count": 4,
   "metadata": {},
   "outputs": [
    {
     "data": {
      "text/html": [
       "<div>\n",
       "<style scoped>\n",
       "    .dataframe tbody tr th:only-of-type {\n",
       "        vertical-align: middle;\n",
       "    }\n",
       "\n",
       "    .dataframe tbody tr th {\n",
       "        vertical-align: top;\n",
       "    }\n",
       "\n",
       "    .dataframe thead th {\n",
       "        text-align: right;\n",
       "    }\n",
       "</style>\n",
       "<table border=\"1\" class=\"dataframe\">\n",
       "  <thead>\n",
       "    <tr style=\"text-align: right;\">\n",
       "      <th></th>\n",
       "      <th>Object_Name</th>\n",
       "      <th>User_ID</th>\n",
       "      <th>Source_ID</th>\n",
       "      <th>Name</th>\n",
       "      <th>Action</th>\n",
       "      <th>Object_Type</th>\n",
       "      <th>Object_ID</th>\n",
       "      <th>Type</th>\n",
       "      <th>Event_Time</th>\n",
       "      <th>Device</th>\n",
       "      <th>Browser_Details</th>\n",
       "    </tr>\n",
       "  </thead>\n",
       "  <tbody>\n",
       "    <tr>\n",
       "      <th>0</th>\n",
       "      <td>'@Daniel Gouveia social has higher than averag...</td>\n",
       "      <td>98726482</td>\n",
       "      <td>98726482</td>\n",
       "      <td>Daniel Gouveia</td>\n",
       "      <td>CREATED</td>\n",
       "      <td>HUDDLE</td>\n",
       "      <td>ec30b903-5026-421e-8537-f8e2441b5832</td>\n",
       "      <td>USER</td>\n",
       "      <td>2018-04-10 17:41:32</td>\n",
       "      <td>NaN</td>\n",
       "      <td>NaN</td>\n",
       "    </tr>\n",
       "    <tr>\n",
       "      <th>1</th>\n",
       "      <td>Daniel Gouveia</td>\n",
       "      <td>98726482</td>\n",
       "      <td>98726482</td>\n",
       "      <td>Daniel Gouveia</td>\n",
       "      <td>INVITED</td>\n",
       "      <td>USER</td>\n",
       "      <td>98726482</td>\n",
       "      <td>USER</td>\n",
       "      <td>2018-04-10 17:41:32</td>\n",
       "      <td>NaN</td>\n",
       "      <td>NaN</td>\n",
       "    </tr>\n",
       "    <tr>\n",
       "      <th>2</th>\n",
       "      <td>Cost per Lead by Source</td>\n",
       "      <td>98726482</td>\n",
       "      <td>98726482</td>\n",
       "      <td>Daniel Gouveia</td>\n",
       "      <td>INVITED_TO</td>\n",
       "      <td>CHANNEL</td>\n",
       "      <td>d8aaa700-70b8-481f-9e05-2b0cdb6999a0</td>\n",
       "      <td>USER</td>\n",
       "      <td>2018-04-10 17:41:32</td>\n",
       "      <td>NaN</td>\n",
       "      <td>NaN</td>\n",
       "    </tr>\n",
       "    <tr>\n",
       "      <th>3</th>\n",
       "      <td>NaN</td>\n",
       "      <td>217072912</td>\n",
       "      <td>217072912</td>\n",
       "      <td>Ron Karas</td>\n",
       "      <td>LOGGEDIN</td>\n",
       "      <td>NaN</td>\n",
       "      <td>NaN</td>\n",
       "      <td>USER</td>\n",
       "      <td>2018-04-10 17:41:35</td>\n",
       "      <td>NaN</td>\n",
       "      <td>NaN</td>\n",
       "    </tr>\n",
       "    <tr>\n",
       "      <th>4</th>\n",
       "      <td>Cost per Lead by Source</td>\n",
       "      <td>98726482</td>\n",
       "      <td>98726482</td>\n",
       "      <td>Daniel Gouveia</td>\n",
       "      <td>VIEWED</td>\n",
       "      <td>CARD</td>\n",
       "      <td>1504216089</td>\n",
       "      <td>USER</td>\n",
       "      <td>2018-04-10 17:42:19</td>\n",
       "      <td>NaN</td>\n",
       "      <td>NaN</td>\n",
       "    </tr>\n",
       "  </tbody>\n",
       "</table>\n",
       "</div>"
      ],
      "text/plain": [
       "                                         Object_Name    User_ID  Source_ID  \\\n",
       "0  '@Daniel Gouveia social has higher than averag...   98726482   98726482   \n",
       "1                                     Daniel Gouveia   98726482   98726482   \n",
       "2                            Cost per Lead by Source   98726482   98726482   \n",
       "3                                                NaN  217072912  217072912   \n",
       "4                            Cost per Lead by Source   98726482   98726482   \n",
       "\n",
       "             Name      Action Object_Type  \\\n",
       "0  Daniel Gouveia     CREATED      HUDDLE   \n",
       "1  Daniel Gouveia     INVITED        USER   \n",
       "2  Daniel Gouveia  INVITED_TO     CHANNEL   \n",
       "3       Ron Karas    LOGGEDIN         NaN   \n",
       "4  Daniel Gouveia      VIEWED        CARD   \n",
       "\n",
       "                              Object_ID  Type           Event_Time Device  \\\n",
       "0  ec30b903-5026-421e-8537-f8e2441b5832  USER  2018-04-10 17:41:32    NaN   \n",
       "1                              98726482  USER  2018-04-10 17:41:32    NaN   \n",
       "2  d8aaa700-70b8-481f-9e05-2b0cdb6999a0  USER  2018-04-10 17:41:32    NaN   \n",
       "3                                   NaN  USER  2018-04-10 17:41:35    NaN   \n",
       "4                            1504216089  USER  2018-04-10 17:42:19    NaN   \n",
       "\n",
       "  Browser_Details  \n",
       "0             NaN  \n",
       "1             NaN  \n",
       "2             NaN  \n",
       "3             NaN  \n",
       "4             NaN  "
      ]
     },
     "execution_count": 4,
     "metadata": {},
     "output_type": "execute_result"
    }
   ],
   "source": [
    "data.head()"
   ]
  },
  {
   "cell_type": "code",
   "execution_count": 5,
   "metadata": {},
   "outputs": [
    {
     "name": "stdout",
     "output_type": "stream",
     "text": [
      "Object_Name         25482\n",
      "User_ID               641\n",
      "Source_ID           19022\n",
      "Name                11371\n",
      "Action                 94\n",
      "Object_Type            62\n",
      "Object_ID           74833\n",
      "Type                   14\n",
      "Event_Time         830507\n",
      "Device                  3\n",
      "Browser_Details       840\n",
      "dtype: int64\n"
     ]
    }
   ],
   "source": [
    "# print number of unique instances in each column \n",
    "\n",
    "print(data.apply(lambda col: len(col.unique())))"
   ]
  },
  {
   "cell_type": "code",
   "execution_count": 8,
   "metadata": {},
   "outputs": [
    {
     "name": "stdout",
     "output_type": "stream",
     "text": [
      "Object_Name        ['@Daniel Gouveia social has higher than avera...\n",
      "User_ID            [98726482, 217072912, 827313924, 794923353, 16...\n",
      "Source_ID          [98726482, 217072912, 827313924, 794923353, 16...\n",
      "Name               [Daniel Gouveia, Ron Karas, Steven Monk, Nick ...\n",
      "Action             [CREATED, INVITED, INVITED_TO, LOGGEDIN, VIEWE...\n",
      "Object_Type        [HUDDLE, USER, CHANNEL, nan, CARD, PAGE, PAGE_...\n",
      "Object_ID          [ec30b903-5026-421e-8537-f8e2441b5832, 9872648...\n",
      "Type               [USER, DATA_SOURCE, CARD, PAGE, PROJECT_TASK, ...\n",
      "Event_Time         [2018-04-10 17:41:32, 2018-04-10 17:41:35, 201...\n",
      "Device                                        [nan, desktop, mobile]\n",
      "Browser_Details    [nan, Mozilla/5.0 (Macintosh; Intel Mac OS X 1...\n",
      "dtype: object\n"
     ]
    }
   ],
   "source": [
    "# print unique values in each column \n",
    "\n",
    "print(data.apply(lambda col: col.unique()))"
   ]
  },
  {
   "attachments": {},
   "cell_type": "markdown",
   "metadata": {},
   "source": [
    "Based on the information I have gathered thus far, it appears that the \"Object_Type\" and \"Type\" columns are the most probable sources of information regarding entity types. My next objective is to determine which columns, when used in combination, would provide me with the most comprehensive information about the initiator and recipient of an activity."
   ]
  },
  {
   "cell_type": "code",
   "execution_count": 9,
   "metadata": {},
   "outputs": [],
   "source": [
    "# Try group by 'Object_Name','Object_Type','Action','Name','Type'\n",
    "\n",
    "ndata = data.groupby(['Object_Name','Object_Type','Action','Name','Type']).size().reset_index().rename(columns={0:'count'})"
   ]
  },
  {
   "cell_type": "code",
   "execution_count": 12,
   "metadata": {},
   "outputs": [
    {
     "data": {
      "text/html": [
       "<div>\n",
       "<style scoped>\n",
       "    .dataframe tbody tr th:only-of-type {\n",
       "        vertical-align: middle;\n",
       "    }\n",
       "\n",
       "    .dataframe tbody tr th {\n",
       "        vertical-align: top;\n",
       "    }\n",
       "\n",
       "    .dataframe thead th {\n",
       "        text-align: right;\n",
       "    }\n",
       "</style>\n",
       "<table border=\"1\" class=\"dataframe\">\n",
       "  <thead>\n",
       "    <tr style=\"text-align: right;\">\n",
       "      <th></th>\n",
       "      <th>Object_Name</th>\n",
       "      <th>Object_Type</th>\n",
       "      <th>Action</th>\n",
       "      <th>Name</th>\n",
       "      <th>Type</th>\n",
       "      <th>count</th>\n",
       "    </tr>\n",
       "  </thead>\n",
       "  <tbody>\n",
       "    <tr>\n",
       "      <th>0</th>\n",
       "      <td>Why are you spending so much money on T&amp;E?</td>\n",
       "      <td>HUDDLE</td>\n",
       "      <td>CREATED</td>\n",
       "      <td>Mike Harding</td>\n",
       "      <td>USER</td>\n",
       "      <td>1</td>\n",
       "    </tr>\n",
       "    <tr>\n",
       "      <th>1</th>\n",
       "      <td>DP18 Employee Details &amp; Quotas</td>\n",
       "      <td>DATA_LINEAGE</td>\n",
       "      <td>VIEWED</td>\n",
       "      <td>Amos Oaks</td>\n",
       "      <td>USER</td>\n",
       "      <td>12</td>\n",
       "    </tr>\n",
       "    <tr>\n",
       "      <th>2</th>\n",
       "      <td>DP18 Employee Details &amp; Quotas</td>\n",
       "      <td>DATA_SOURCE</td>\n",
       "      <td>EXPORTED</td>\n",
       "      <td>JJ Persaud</td>\n",
       "      <td>USER</td>\n",
       "      <td>1</td>\n",
       "    </tr>\n",
       "    <tr>\n",
       "      <th>3</th>\n",
       "      <td>DP18 Employee Details &amp; Quotas</td>\n",
       "      <td>DATA_SOURCE</td>\n",
       "      <td>UPDATED</td>\n",
       "      <td>Mike Kirkeide</td>\n",
       "      <td>USER</td>\n",
       "      <td>1</td>\n",
       "    </tr>\n",
       "    <tr>\n",
       "      <th>4</th>\n",
       "      <td>DP18 Employee Details &amp; Quotas</td>\n",
       "      <td>DATA_SOURCE</td>\n",
       "      <td>UPDATED</td>\n",
       "      <td>Will Vaughan</td>\n",
       "      <td>USER</td>\n",
       "      <td>1</td>\n",
       "    </tr>\n",
       "  </tbody>\n",
       "</table>\n",
       "</div>"
      ],
      "text/plain": [
       "                                    Object_Name   Object_Type    Action  \\\n",
       "0    Why are you spending so much money on T&E?        HUDDLE   CREATED   \n",
       "1                DP18 Employee Details & Quotas  DATA_LINEAGE    VIEWED   \n",
       "2                DP18 Employee Details & Quotas   DATA_SOURCE  EXPORTED   \n",
       "3                DP18 Employee Details & Quotas   DATA_SOURCE   UPDATED   \n",
       "4                DP18 Employee Details & Quotas   DATA_SOURCE   UPDATED   \n",
       "\n",
       "            Name  Type  count  \n",
       "0   Mike Harding  USER      1  \n",
       "1      Amos Oaks  USER     12  \n",
       "2     JJ Persaud  USER      1  \n",
       "3  Mike Kirkeide  USER      1  \n",
       "4   Will Vaughan  USER      1  "
      ]
     },
     "execution_count": 12,
     "metadata": {},
     "output_type": "execute_result"
    }
   ],
   "source": [
    "ndata.head()"
   ]
  },
  {
   "attachments": {},
   "cell_type": "markdown",
   "metadata": {},
   "source": [
    "Based on my analysis, I have formulated a hypothesis that for each entry, the \"Name\" column corresponds to the name of the initiator, the \"Type\" column corresponds to the entity type of the initiator, the \"Action\" column corresponds to the action of the initiator, the \"Object_Name\" column corresponds to the name of the action receiver, and the \"Object_Type\" column corresponds to the entity type of the receiver. My strategy to identify the types of entities that interact with each other involves grouping the data based on \"Object_Type\" and \"Type\"."
   ]
  },
  {
   "cell_type": "code",
   "execution_count": 16,
   "metadata": {},
   "outputs": [],
   "source": [
    "edata = data.groupby(['Type', 'Object_Type']).size().reset_index().rename(columns={0:'count'})"
   ]
  },
  {
   "cell_type": "code",
   "execution_count": 17,
   "metadata": {},
   "outputs": [
    {
     "data": {
      "text/html": [
       "<div>\n",
       "<style scoped>\n",
       "    .dataframe tbody tr th:only-of-type {\n",
       "        vertical-align: middle;\n",
       "    }\n",
       "\n",
       "    .dataframe tbody tr th {\n",
       "        vertical-align: top;\n",
       "    }\n",
       "\n",
       "    .dataframe thead th {\n",
       "        text-align: right;\n",
       "    }\n",
       "</style>\n",
       "<table border=\"1\" class=\"dataframe\">\n",
       "  <thead>\n",
       "    <tr style=\"text-align: right;\">\n",
       "      <th></th>\n",
       "      <th>Type</th>\n",
       "      <th>Object_Type</th>\n",
       "      <th>count</th>\n",
       "    </tr>\n",
       "  </thead>\n",
       "  <tbody>\n",
       "    <tr>\n",
       "      <th>40</th>\n",
       "      <td>USER</td>\n",
       "      <td>CUSTOMER_FEATURE</td>\n",
       "      <td>1</td>\n",
       "    </tr>\n",
       "    <tr>\n",
       "      <th>54</th>\n",
       "      <td>USER</td>\n",
       "      <td>LICENSE_REQUEST</td>\n",
       "      <td>1</td>\n",
       "    </tr>\n",
       "    <tr>\n",
       "      <th>73</th>\n",
       "      <td>USER</td>\n",
       "      <td>TEMPLATE</td>\n",
       "      <td>1</td>\n",
       "    </tr>\n",
       "    <tr>\n",
       "      <th>26</th>\n",
       "      <td>USER</td>\n",
       "      <td>ACTIVITY_LOG_CSV</td>\n",
       "      <td>2</td>\n",
       "    </tr>\n",
       "    <tr>\n",
       "      <th>55</th>\n",
       "      <td>USER</td>\n",
       "      <td>METRIC</td>\n",
       "      <td>3</td>\n",
       "    </tr>\n",
       "    <tr>\n",
       "      <th>...</th>\n",
       "      <td>...</td>\n",
       "      <td>...</td>\n",
       "      <td>...</td>\n",
       "    </tr>\n",
       "    <tr>\n",
       "      <th>52</th>\n",
       "      <td>USER</td>\n",
       "      <td>JOB</td>\n",
       "      <td>103310</td>\n",
       "    </tr>\n",
       "    <tr>\n",
       "      <th>15</th>\n",
       "      <td>DATA_SOURCE</td>\n",
       "      <td>USER</td>\n",
       "      <td>131776</td>\n",
       "    </tr>\n",
       "    <tr>\n",
       "      <th>7</th>\n",
       "      <td>CARD</td>\n",
       "      <td>USER</td>\n",
       "      <td>238644</td>\n",
       "    </tr>\n",
       "    <tr>\n",
       "      <th>33</th>\n",
       "      <td>USER</td>\n",
       "      <td>CARD</td>\n",
       "      <td>270889</td>\n",
       "    </tr>\n",
       "    <tr>\n",
       "      <th>56</th>\n",
       "      <td>USER</td>\n",
       "      <td>PAGE</td>\n",
       "      <td>485039</td>\n",
       "    </tr>\n",
       "  </tbody>\n",
       "</table>\n",
       "<p>78 rows × 3 columns</p>\n",
       "</div>"
      ],
      "text/plain": [
       "           Type       Object_Type   count\n",
       "40         USER  CUSTOMER_FEATURE       1\n",
       "54         USER   LICENSE_REQUEST       1\n",
       "73         USER          TEMPLATE       1\n",
       "26         USER  ACTIVITY_LOG_CSV       2\n",
       "55         USER            METRIC       3\n",
       "..          ...               ...     ...\n",
       "52         USER               JOB  103310\n",
       "15  DATA_SOURCE              USER  131776\n",
       "7          CARD              USER  238644\n",
       "33         USER              CARD  270889\n",
       "56         USER              PAGE  485039\n",
       "\n",
       "[78 rows x 3 columns]"
      ]
     },
     "execution_count": 17,
     "metadata": {},
     "output_type": "execute_result"
    }
   ],
   "source": [
    "edata.sort_values('count')"
   ]
  },
  {
   "attachments": {},
   "cell_type": "markdown",
   "metadata": {},
   "source": [
    "Having obtained this information, I can now proceed with constructing an entity graph. I will consider each unique instance in the set comprising \"Object_Type\" and \"Type\" as a node in the graph. For each pair of \"Type\" and \"Object_Type\", I will create a directed edge between them, with the count of such pairs serving as the weight of the corresponding edge."
   ]
  },
  {
   "cell_type": "code",
   "execution_count": 23,
   "metadata": {},
   "outputs": [
    {
     "data": {
      "text/plain": [
       "139143"
      ]
     },
     "execution_count": 23,
     "metadata": {},
     "output_type": "execute_result"
    }
   ],
   "source": []
  },
  {
   "cell_type": "code",
   "execution_count": null,
   "metadata": {},
   "outputs": [],
   "source": []
  }
 ],
 "metadata": {
  "kernelspec": {
   "display_name": "Python 3",
   "language": "python",
   "name": "python3"
  },
  "language_info": {
   "codemirror_mode": {
    "name": "ipython",
    "version": 3
   },
   "file_extension": ".py",
   "mimetype": "text/x-python",
   "name": "python",
   "nbconvert_exporter": "python",
   "pygments_lexer": "ipython3",
   "version": "3.10.8 (main, Oct 13 2022, 09:48:40) [Clang 14.0.0 (clang-1400.0.29.102)]"
  },
  "orig_nbformat": 4,
  "vscode": {
   "interpreter": {
    "hash": "b0fa6594d8f4cbf19f97940f81e996739fb7646882a419484c72d19e05852a7e"
   }
  }
 },
 "nbformat": 4,
 "nbformat_minor": 2
}
